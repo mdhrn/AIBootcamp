{
  "cells": [
    {
      "cell_type": "code",
      "execution_count": 1,
      "metadata": {
        "id": "LUeFu6rYFHT6"
      },
      "outputs": [],
      "source": [
        "import pandas as pd\n",
        "import numpy as np\n",
        "import seaborn as sns\n",
        "import matplotlib.pyplot as plt\n",
        "import warnings\n",
        "warnings.filterwarnings('ignore') # ignorewarning in seaborn"
      ]
    },
    {
      "cell_type": "code",
      "execution_count": 2,
      "metadata": {
        "colab": {
          "base_uri": "https://localhost:8080/"
        },
        "id": "tNTHBB-1FJ5b",
        "outputId": "15bd3af8-0198-44f5-bcef-2a5c14a74f35"
      },
      "outputs": [
        {
          "data": {
            "text/plain": [
              "(27360, 1025)"
            ]
          },
          "execution_count": 2,
          "metadata": {},
          "output_type": "execute_result"
        }
      ],
      "source": [
        "embed = pd.read_csv('embed_new.csv', index_col=False)\n",
        "embed.shape"
      ]
    },
    {
      "cell_type": "code",
      "execution_count": 3,
      "metadata": {
        "colab": {
          "base_uri": "https://localhost:8080/",
          "height": 342
        },
        "id": "7rtsdIXkFd5H",
        "outputId": "584d1daa-ca70-488a-f7e1-48fa841565c2"
      },
      "outputs": [
        {
          "data": {
            "text/html": [
              "<div>\n",
              "<style scoped>\n",
              "    .dataframe tbody tr th:only-of-type {\n",
              "        vertical-align: middle;\n",
              "    }\n",
              "\n",
              "    .dataframe tbody tr th {\n",
              "        vertical-align: top;\n",
              "    }\n",
              "\n",
              "    .dataframe thead th {\n",
              "        text-align: right;\n",
              "    }\n",
              "</style>\n",
              "<table border=\"1\" class=\"dataframe\">\n",
              "  <thead>\n",
              "    <tr style=\"text-align: right;\">\n",
              "      <th></th>\n",
              "      <th>site_id</th>\n",
              "      <th>feature_0</th>\n",
              "      <th>feature_1</th>\n",
              "      <th>feature_2</th>\n",
              "      <th>feature_3</th>\n",
              "      <th>feature_4</th>\n",
              "      <th>feature_5</th>\n",
              "      <th>feature_6</th>\n",
              "      <th>feature_7</th>\n",
              "      <th>feature_8</th>\n",
              "      <th>...</th>\n",
              "      <th>feature_1014</th>\n",
              "      <th>feature_1015</th>\n",
              "      <th>feature_1016</th>\n",
              "      <th>feature_1017</th>\n",
              "      <th>feature_1018</th>\n",
              "      <th>feature_1019</th>\n",
              "      <th>feature_1020</th>\n",
              "      <th>feature_1021</th>\n",
              "      <th>feature_1022</th>\n",
              "      <th>feature_1023</th>\n",
              "    </tr>\n",
              "  </thead>\n",
              "  <tbody>\n",
              "    <tr>\n",
              "      <th>0</th>\n",
              "      <td>HRCE-1_10_AA08_1</td>\n",
              "      <td>2.297975</td>\n",
              "      <td>0.022587</td>\n",
              "      <td>0.195894</td>\n",
              "      <td>0.014781</td>\n",
              "      <td>-1.100471</td>\n",
              "      <td>0.098462</td>\n",
              "      <td>0.242965</td>\n",
              "      <td>0.199119</td>\n",
              "      <td>-0.567304</td>\n",
              "      <td>...</td>\n",
              "      <td>0.586100</td>\n",
              "      <td>0.781158</td>\n",
              "      <td>-1.187773</td>\n",
              "      <td>-1.368313</td>\n",
              "      <td>-1.659620</td>\n",
              "      <td>-0.020060</td>\n",
              "      <td>-0.498513</td>\n",
              "      <td>0.349791</td>\n",
              "      <td>-0.286453</td>\n",
              "      <td>-1.424416</td>\n",
              "    </tr>\n",
              "    <tr>\n",
              "      <th>1</th>\n",
              "      <td>HRCE-1_10_AA08_2</td>\n",
              "      <td>2.023117</td>\n",
              "      <td>0.055359</td>\n",
              "      <td>0.032669</td>\n",
              "      <td>-0.427921</td>\n",
              "      <td>-1.477027</td>\n",
              "      <td>0.555283</td>\n",
              "      <td>0.125149</td>\n",
              "      <td>0.024121</td>\n",
              "      <td>-0.310992</td>\n",
              "      <td>...</td>\n",
              "      <td>0.857226</td>\n",
              "      <td>0.687854</td>\n",
              "      <td>-1.667390</td>\n",
              "      <td>-1.059504</td>\n",
              "      <td>-1.597720</td>\n",
              "      <td>-0.335833</td>\n",
              "      <td>-0.643573</td>\n",
              "      <td>0.253038</td>\n",
              "      <td>0.145723</td>\n",
              "      <td>-1.794530</td>\n",
              "    </tr>\n",
              "    <tr>\n",
              "      <th>2</th>\n",
              "      <td>HRCE-1_10_AA08_3</td>\n",
              "      <td>2.311472</td>\n",
              "      <td>-0.001317</td>\n",
              "      <td>-0.237807</td>\n",
              "      <td>-0.174421</td>\n",
              "      <td>-1.027797</td>\n",
              "      <td>0.333306</td>\n",
              "      <td>0.646213</td>\n",
              "      <td>0.075742</td>\n",
              "      <td>-0.196632</td>\n",
              "      <td>...</td>\n",
              "      <td>0.798136</td>\n",
              "      <td>0.554682</td>\n",
              "      <td>-1.611646</td>\n",
              "      <td>-1.132473</td>\n",
              "      <td>-1.820604</td>\n",
              "      <td>0.127287</td>\n",
              "      <td>-0.792207</td>\n",
              "      <td>0.296043</td>\n",
              "      <td>-0.333672</td>\n",
              "      <td>-1.618949</td>\n",
              "    </tr>\n",
              "    <tr>\n",
              "      <th>3</th>\n",
              "      <td>HRCE-1_10_AA08_4</td>\n",
              "      <td>2.140031</td>\n",
              "      <td>-0.136464</td>\n",
              "      <td>-0.219615</td>\n",
              "      <td>0.169635</td>\n",
              "      <td>-1.099294</td>\n",
              "      <td>0.623271</td>\n",
              "      <td>0.449529</td>\n",
              "      <td>-0.265632</td>\n",
              "      <td>0.208191</td>\n",
              "      <td>...</td>\n",
              "      <td>0.495531</td>\n",
              "      <td>0.361196</td>\n",
              "      <td>-1.398734</td>\n",
              "      <td>-1.085089</td>\n",
              "      <td>-1.066442</td>\n",
              "      <td>-0.206999</td>\n",
              "      <td>-0.996809</td>\n",
              "      <td>0.255133</td>\n",
              "      <td>-0.056049</td>\n",
              "      <td>-1.397925</td>\n",
              "    </tr>\n",
              "    <tr>\n",
              "      <th>4</th>\n",
              "      <td>HRCE-1_10_AA10_4</td>\n",
              "      <td>2.725714</td>\n",
              "      <td>0.097124</td>\n",
              "      <td>-0.251666</td>\n",
              "      <td>-0.245772</td>\n",
              "      <td>-0.611061</td>\n",
              "      <td>0.599592</td>\n",
              "      <td>0.098196</td>\n",
              "      <td>-0.359271</td>\n",
              "      <td>0.068162</td>\n",
              "      <td>...</td>\n",
              "      <td>0.750727</td>\n",
              "      <td>0.885180</td>\n",
              "      <td>-1.421534</td>\n",
              "      <td>-1.284419</td>\n",
              "      <td>-1.417082</td>\n",
              "      <td>-0.065161</td>\n",
              "      <td>-0.390283</td>\n",
              "      <td>0.362758</td>\n",
              "      <td>0.033494</td>\n",
              "      <td>-1.130605</td>\n",
              "    </tr>\n",
              "  </tbody>\n",
              "</table>\n",
              "<p>5 rows × 1025 columns</p>\n",
              "</div>"
            ],
            "text/plain": [
              "            site_id  feature_0  feature_1  feature_2  feature_3  feature_4  \\\n",
              "0  HRCE-1_10_AA08_1   2.297975   0.022587   0.195894   0.014781  -1.100471   \n",
              "1  HRCE-1_10_AA08_2   2.023117   0.055359   0.032669  -0.427921  -1.477027   \n",
              "2  HRCE-1_10_AA08_3   2.311472  -0.001317  -0.237807  -0.174421  -1.027797   \n",
              "3  HRCE-1_10_AA08_4   2.140031  -0.136464  -0.219615   0.169635  -1.099294   \n",
              "4  HRCE-1_10_AA10_4   2.725714   0.097124  -0.251666  -0.245772  -0.611061   \n",
              "\n",
              "   feature_5  feature_6  feature_7  feature_8  ...  feature_1014  \\\n",
              "0   0.098462   0.242965   0.199119  -0.567304  ...      0.586100   \n",
              "1   0.555283   0.125149   0.024121  -0.310992  ...      0.857226   \n",
              "2   0.333306   0.646213   0.075742  -0.196632  ...      0.798136   \n",
              "3   0.623271   0.449529  -0.265632   0.208191  ...      0.495531   \n",
              "4   0.599592   0.098196  -0.359271   0.068162  ...      0.750727   \n",
              "\n",
              "   feature_1015  feature_1016  feature_1017  feature_1018  feature_1019  \\\n",
              "0      0.781158     -1.187773     -1.368313     -1.659620     -0.020060   \n",
              "1      0.687854     -1.667390     -1.059504     -1.597720     -0.335833   \n",
              "2      0.554682     -1.611646     -1.132473     -1.820604      0.127287   \n",
              "3      0.361196     -1.398734     -1.085089     -1.066442     -0.206999   \n",
              "4      0.885180     -1.421534     -1.284419     -1.417082     -0.065161   \n",
              "\n",
              "   feature_1020  feature_1021  feature_1022  feature_1023  \n",
              "0     -0.498513      0.349791     -0.286453     -1.424416  \n",
              "1     -0.643573      0.253038      0.145723     -1.794530  \n",
              "2     -0.792207      0.296043     -0.333672     -1.618949  \n",
              "3     -0.996809      0.255133     -0.056049     -1.397925  \n",
              "4     -0.390283      0.362758      0.033494     -1.130605  \n",
              "\n",
              "[5 rows x 1025 columns]"
            ]
          },
          "execution_count": 3,
          "metadata": {},
          "output_type": "execute_result"
        }
      ],
      "source": [
        "embed.head()"
      ]
    },
    {
      "cell_type": "code",
      "execution_count": 4,
      "metadata": {
        "colab": {
          "base_uri": "https://localhost:8080/",
          "height": 373
        },
        "id": "qecuwDHGFzYz",
        "outputId": "4dccb3a1-97c9-4aa7-d0ed-c17fdd5f22f0"
      },
      "outputs": [
        {
          "data": {
            "text/html": [
              "<div>\n",
              "<style scoped>\n",
              "    .dataframe tbody tr th:only-of-type {\n",
              "        vertical-align: middle;\n",
              "    }\n",
              "\n",
              "    .dataframe tbody tr th {\n",
              "        vertical-align: top;\n",
              "    }\n",
              "\n",
              "    .dataframe thead th {\n",
              "        text-align: right;\n",
              "    }\n",
              "</style>\n",
              "<table border=\"1\" class=\"dataframe\">\n",
              "  <thead>\n",
              "    <tr style=\"text-align: right;\">\n",
              "      <th></th>\n",
              "      <th>feature_0</th>\n",
              "      <th>feature_1</th>\n",
              "      <th>feature_2</th>\n",
              "      <th>feature_3</th>\n",
              "      <th>feature_4</th>\n",
              "      <th>feature_5</th>\n",
              "      <th>feature_6</th>\n",
              "      <th>feature_7</th>\n",
              "      <th>feature_8</th>\n",
              "      <th>feature_9</th>\n",
              "      <th>...</th>\n",
              "      <th>feature_1014</th>\n",
              "      <th>feature_1015</th>\n",
              "      <th>feature_1016</th>\n",
              "      <th>feature_1017</th>\n",
              "      <th>feature_1018</th>\n",
              "      <th>feature_1019</th>\n",
              "      <th>feature_1020</th>\n",
              "      <th>feature_1021</th>\n",
              "      <th>feature_1022</th>\n",
              "      <th>feature_1023</th>\n",
              "    </tr>\n",
              "    <tr>\n",
              "      <th>site_id</th>\n",
              "      <th></th>\n",
              "      <th></th>\n",
              "      <th></th>\n",
              "      <th></th>\n",
              "      <th></th>\n",
              "      <th></th>\n",
              "      <th></th>\n",
              "      <th></th>\n",
              "      <th></th>\n",
              "      <th></th>\n",
              "      <th></th>\n",
              "      <th></th>\n",
              "      <th></th>\n",
              "      <th></th>\n",
              "      <th></th>\n",
              "      <th></th>\n",
              "      <th></th>\n",
              "      <th></th>\n",
              "      <th></th>\n",
              "      <th></th>\n",
              "      <th></th>\n",
              "    </tr>\n",
              "  </thead>\n",
              "  <tbody>\n",
              "    <tr>\n",
              "      <th>HRCE-1_10_AA08_1</th>\n",
              "      <td>2.297975</td>\n",
              "      <td>0.022587</td>\n",
              "      <td>0.195894</td>\n",
              "      <td>0.014781</td>\n",
              "      <td>-1.100471</td>\n",
              "      <td>0.098462</td>\n",
              "      <td>0.242965</td>\n",
              "      <td>0.199119</td>\n",
              "      <td>-0.567304</td>\n",
              "      <td>-0.227210</td>\n",
              "      <td>...</td>\n",
              "      <td>0.586100</td>\n",
              "      <td>0.781158</td>\n",
              "      <td>-1.187773</td>\n",
              "      <td>-1.368313</td>\n",
              "      <td>-1.659620</td>\n",
              "      <td>-0.020060</td>\n",
              "      <td>-0.498513</td>\n",
              "      <td>0.349791</td>\n",
              "      <td>-0.286453</td>\n",
              "      <td>-1.424416</td>\n",
              "    </tr>\n",
              "    <tr>\n",
              "      <th>HRCE-1_10_AA08_2</th>\n",
              "      <td>2.023117</td>\n",
              "      <td>0.055359</td>\n",
              "      <td>0.032669</td>\n",
              "      <td>-0.427921</td>\n",
              "      <td>-1.477027</td>\n",
              "      <td>0.555283</td>\n",
              "      <td>0.125149</td>\n",
              "      <td>0.024121</td>\n",
              "      <td>-0.310992</td>\n",
              "      <td>-0.035899</td>\n",
              "      <td>...</td>\n",
              "      <td>0.857226</td>\n",
              "      <td>0.687854</td>\n",
              "      <td>-1.667390</td>\n",
              "      <td>-1.059504</td>\n",
              "      <td>-1.597720</td>\n",
              "      <td>-0.335833</td>\n",
              "      <td>-0.643573</td>\n",
              "      <td>0.253038</td>\n",
              "      <td>0.145723</td>\n",
              "      <td>-1.794530</td>\n",
              "    </tr>\n",
              "    <tr>\n",
              "      <th>HRCE-1_10_AA08_3</th>\n",
              "      <td>2.311472</td>\n",
              "      <td>-0.001317</td>\n",
              "      <td>-0.237807</td>\n",
              "      <td>-0.174421</td>\n",
              "      <td>-1.027797</td>\n",
              "      <td>0.333306</td>\n",
              "      <td>0.646213</td>\n",
              "      <td>0.075742</td>\n",
              "      <td>-0.196632</td>\n",
              "      <td>0.029261</td>\n",
              "      <td>...</td>\n",
              "      <td>0.798136</td>\n",
              "      <td>0.554682</td>\n",
              "      <td>-1.611646</td>\n",
              "      <td>-1.132473</td>\n",
              "      <td>-1.820604</td>\n",
              "      <td>0.127287</td>\n",
              "      <td>-0.792207</td>\n",
              "      <td>0.296043</td>\n",
              "      <td>-0.333672</td>\n",
              "      <td>-1.618949</td>\n",
              "    </tr>\n",
              "    <tr>\n",
              "      <th>HRCE-1_10_AA08_4</th>\n",
              "      <td>2.140031</td>\n",
              "      <td>-0.136464</td>\n",
              "      <td>-0.219615</td>\n",
              "      <td>0.169635</td>\n",
              "      <td>-1.099294</td>\n",
              "      <td>0.623271</td>\n",
              "      <td>0.449529</td>\n",
              "      <td>-0.265632</td>\n",
              "      <td>0.208191</td>\n",
              "      <td>-0.092774</td>\n",
              "      <td>...</td>\n",
              "      <td>0.495531</td>\n",
              "      <td>0.361196</td>\n",
              "      <td>-1.398734</td>\n",
              "      <td>-1.085089</td>\n",
              "      <td>-1.066442</td>\n",
              "      <td>-0.206999</td>\n",
              "      <td>-0.996809</td>\n",
              "      <td>0.255133</td>\n",
              "      <td>-0.056049</td>\n",
              "      <td>-1.397925</td>\n",
              "    </tr>\n",
              "    <tr>\n",
              "      <th>HRCE-1_10_AA10_4</th>\n",
              "      <td>2.725714</td>\n",
              "      <td>0.097124</td>\n",
              "      <td>-0.251666</td>\n",
              "      <td>-0.245772</td>\n",
              "      <td>-0.611061</td>\n",
              "      <td>0.599592</td>\n",
              "      <td>0.098196</td>\n",
              "      <td>-0.359271</td>\n",
              "      <td>0.068162</td>\n",
              "      <td>-0.497672</td>\n",
              "      <td>...</td>\n",
              "      <td>0.750727</td>\n",
              "      <td>0.885180</td>\n",
              "      <td>-1.421534</td>\n",
              "      <td>-1.284419</td>\n",
              "      <td>-1.417082</td>\n",
              "      <td>-0.065161</td>\n",
              "      <td>-0.390283</td>\n",
              "      <td>0.362758</td>\n",
              "      <td>0.033494</td>\n",
              "      <td>-1.130605</td>\n",
              "    </tr>\n",
              "  </tbody>\n",
              "</table>\n",
              "<p>5 rows × 1024 columns</p>\n",
              "</div>"
            ],
            "text/plain": [
              "                  feature_0  feature_1  feature_2  feature_3  feature_4  \\\n",
              "site_id                                                                   \n",
              "HRCE-1_10_AA08_1   2.297975   0.022587   0.195894   0.014781  -1.100471   \n",
              "HRCE-1_10_AA08_2   2.023117   0.055359   0.032669  -0.427921  -1.477027   \n",
              "HRCE-1_10_AA08_3   2.311472  -0.001317  -0.237807  -0.174421  -1.027797   \n",
              "HRCE-1_10_AA08_4   2.140031  -0.136464  -0.219615   0.169635  -1.099294   \n",
              "HRCE-1_10_AA10_4   2.725714   0.097124  -0.251666  -0.245772  -0.611061   \n",
              "\n",
              "                  feature_5  feature_6  feature_7  feature_8  feature_9  ...  \\\n",
              "site_id                                                                  ...   \n",
              "HRCE-1_10_AA08_1   0.098462   0.242965   0.199119  -0.567304  -0.227210  ...   \n",
              "HRCE-1_10_AA08_2   0.555283   0.125149   0.024121  -0.310992  -0.035899  ...   \n",
              "HRCE-1_10_AA08_3   0.333306   0.646213   0.075742  -0.196632   0.029261  ...   \n",
              "HRCE-1_10_AA08_4   0.623271   0.449529  -0.265632   0.208191  -0.092774  ...   \n",
              "HRCE-1_10_AA10_4   0.599592   0.098196  -0.359271   0.068162  -0.497672  ...   \n",
              "\n",
              "                  feature_1014  feature_1015  feature_1016  feature_1017  \\\n",
              "site_id                                                                    \n",
              "HRCE-1_10_AA08_1      0.586100      0.781158     -1.187773     -1.368313   \n",
              "HRCE-1_10_AA08_2      0.857226      0.687854     -1.667390     -1.059504   \n",
              "HRCE-1_10_AA08_3      0.798136      0.554682     -1.611646     -1.132473   \n",
              "HRCE-1_10_AA08_4      0.495531      0.361196     -1.398734     -1.085089   \n",
              "HRCE-1_10_AA10_4      0.750727      0.885180     -1.421534     -1.284419   \n",
              "\n",
              "                  feature_1018  feature_1019  feature_1020  feature_1021  \\\n",
              "site_id                                                                    \n",
              "HRCE-1_10_AA08_1     -1.659620     -0.020060     -0.498513      0.349791   \n",
              "HRCE-1_10_AA08_2     -1.597720     -0.335833     -0.643573      0.253038   \n",
              "HRCE-1_10_AA08_3     -1.820604      0.127287     -0.792207      0.296043   \n",
              "HRCE-1_10_AA08_4     -1.066442     -0.206999     -0.996809      0.255133   \n",
              "HRCE-1_10_AA10_4     -1.417082     -0.065161     -0.390283      0.362758   \n",
              "\n",
              "                  feature_1022  feature_1023  \n",
              "site_id                                       \n",
              "HRCE-1_10_AA08_1     -0.286453     -1.424416  \n",
              "HRCE-1_10_AA08_2      0.145723     -1.794530  \n",
              "HRCE-1_10_AA08_3     -0.333672     -1.618949  \n",
              "HRCE-1_10_AA08_4     -0.056049     -1.397925  \n",
              "HRCE-1_10_AA10_4      0.033494     -1.130605  \n",
              "\n",
              "[5 rows x 1024 columns]"
            ]
          },
          "execution_count": 4,
          "metadata": {},
          "output_type": "execute_result"
        }
      ],
      "source": [
        "# make the number index dissapear\n",
        "\n",
        "embed.set_index('site_id', inplace=True)\n",
        "embed.head()"
      ]
    },
    {
      "cell_type": "code",
      "execution_count": 5,
      "metadata": {
        "colab": {
          "base_uri": "https://localhost:8080/"
        },
        "id": "5uOODHS7HA22",
        "outputId": "8ea90eab-c481-4474-be74-527242e17dad"
      },
      "outputs": [
        {
          "name": "stdout",
          "output_type": "stream",
          "text": [
            "site_id\n"
          ]
        }
      ],
      "source": [
        "print(embed.index.name)\n"
      ]
    },
    {
      "cell_type": "code",
      "execution_count": null,
      "metadata": {
        "id": "t_83xYrYsFRa"
      },
      "outputs": [],
      "source": []
    },
    {
      "cell_type": "code",
      "execution_count": 6,
      "metadata": {
        "colab": {
          "base_uri": "https://localhost:8080/"
        },
        "id": "giY7ppGSHVVs",
        "outputId": "09c5a643-f479-4593-8617-031191ce541f"
      },
      "outputs": [
        {
          "data": {
            "text/plain": [
              "(27360, 10)"
            ]
          },
          "execution_count": 6,
          "metadata": {},
          "output_type": "execute_result"
        }
      ],
      "source": [
        "meta = pd.read_csv('meta_new.csv', index_col=False)\n",
        "meta.shape"
      ]
    },
    {
      "cell_type": "code",
      "execution_count": 7,
      "metadata": {
        "colab": {
          "base_uri": "https://localhost:8080/",
          "height": 313
        },
        "id": "eWn8QGErHcvH",
        "outputId": "f3d98b77-7651-4f41-9f2d-6a00ff184f94"
      },
      "outputs": [
        {
          "data": {
            "text/html": [
              "<div>\n",
              "<style scoped>\n",
              "    .dataframe tbody tr th:only-of-type {\n",
              "        vertical-align: middle;\n",
              "    }\n",
              "\n",
              "    .dataframe tbody tr th {\n",
              "        vertical-align: top;\n",
              "    }\n",
              "\n",
              "    .dataframe thead th {\n",
              "        text-align: right;\n",
              "    }\n",
              "</style>\n",
              "<table border=\"1\" class=\"dataframe\">\n",
              "  <thead>\n",
              "    <tr style=\"text-align: right;\">\n",
              "      <th></th>\n",
              "      <th>site_id</th>\n",
              "      <th>well_id</th>\n",
              "      <th>cell_type</th>\n",
              "      <th>experiment</th>\n",
              "      <th>plate</th>\n",
              "      <th>well</th>\n",
              "      <th>site</th>\n",
              "      <th>disease_condition</th>\n",
              "      <th>treatment</th>\n",
              "      <th>treatment_conc</th>\n",
              "    </tr>\n",
              "  </thead>\n",
              "  <tbody>\n",
              "    <tr>\n",
              "      <th>0</th>\n",
              "      <td>HRCE-1_1_J31_4</td>\n",
              "      <td>HRCE-1_1_J31</td>\n",
              "      <td>HRCE</td>\n",
              "      <td>HRCE-1</td>\n",
              "      <td>1</td>\n",
              "      <td>J31</td>\n",
              "      <td>4</td>\n",
              "      <td>Active SARS-CoV-2</td>\n",
              "      <td>Epalrestat</td>\n",
              "      <td>1.00</td>\n",
              "    </tr>\n",
              "    <tr>\n",
              "      <th>1</th>\n",
              "      <td>HRCE-1_12_V27_4</td>\n",
              "      <td>HRCE-1_12_V27</td>\n",
              "      <td>HRCE</td>\n",
              "      <td>HRCE-1</td>\n",
              "      <td>12</td>\n",
              "      <td>V27</td>\n",
              "      <td>4</td>\n",
              "      <td>Active SARS-CoV-2</td>\n",
              "      <td>Tolazamide</td>\n",
              "      <td>0.03</td>\n",
              "    </tr>\n",
              "    <tr>\n",
              "      <th>2</th>\n",
              "      <td>HRCE-2_22_Z27_2</td>\n",
              "      <td>HRCE-2_22_Z27</td>\n",
              "      <td>HRCE</td>\n",
              "      <td>HRCE-2</td>\n",
              "      <td>22</td>\n",
              "      <td>Z27</td>\n",
              "      <td>2</td>\n",
              "      <td>Active SARS-CoV-2</td>\n",
              "      <td>inimur</td>\n",
              "      <td>0.10</td>\n",
              "    </tr>\n",
              "    <tr>\n",
              "      <th>3</th>\n",
              "      <td>HRCE-2_19_AB23_3</td>\n",
              "      <td>HRCE-2_19_AB23</td>\n",
              "      <td>HRCE</td>\n",
              "      <td>HRCE-2</td>\n",
              "      <td>19</td>\n",
              "      <td>AB23</td>\n",
              "      <td>3</td>\n",
              "      <td>Active SARS-CoV-2</td>\n",
              "      <td>chloroxoquinoline</td>\n",
              "      <td>0.10</td>\n",
              "    </tr>\n",
              "    <tr>\n",
              "      <th>4</th>\n",
              "      <td>HRCE-2_14_D28_2</td>\n",
              "      <td>HRCE-2_14_D28</td>\n",
              "      <td>HRCE</td>\n",
              "      <td>HRCE-2</td>\n",
              "      <td>14</td>\n",
              "      <td>D28</td>\n",
              "      <td>2</td>\n",
              "      <td>Active SARS-CoV-2</td>\n",
              "      <td>Triacetin</td>\n",
              "      <td>1.00</td>\n",
              "    </tr>\n",
              "  </tbody>\n",
              "</table>\n",
              "</div>"
            ],
            "text/plain": [
              "            site_id         well_id cell_type experiment  plate  well  site  \\\n",
              "0    HRCE-1_1_J31_4    HRCE-1_1_J31      HRCE     HRCE-1      1   J31     4   \n",
              "1   HRCE-1_12_V27_4   HRCE-1_12_V27      HRCE     HRCE-1     12   V27     4   \n",
              "2   HRCE-2_22_Z27_2   HRCE-2_22_Z27      HRCE     HRCE-2     22   Z27     2   \n",
              "3  HRCE-2_19_AB23_3  HRCE-2_19_AB23      HRCE     HRCE-2     19  AB23     3   \n",
              "4   HRCE-2_14_D28_2   HRCE-2_14_D28      HRCE     HRCE-2     14   D28     2   \n",
              "\n",
              "   disease_condition          treatment  treatment_conc  \n",
              "0  Active SARS-CoV-2         Epalrestat            1.00  \n",
              "1  Active SARS-CoV-2         Tolazamide            0.03  \n",
              "2  Active SARS-CoV-2             inimur            0.10  \n",
              "3  Active SARS-CoV-2  chloroxoquinoline            0.10  \n",
              "4  Active SARS-CoV-2          Triacetin            1.00  "
            ]
          },
          "execution_count": 7,
          "metadata": {},
          "output_type": "execute_result"
        }
      ],
      "source": [
        "meta.head()"
      ]
    },
    {
      "cell_type": "code",
      "execution_count": 8,
      "metadata": {
        "colab": {
          "base_uri": "https://localhost:8080/"
        },
        "id": "36Oa2ahUHp8H",
        "outputId": "aac8c7d5-93a4-4b29-a940-6ce964d8ed38"
      },
      "outputs": [
        {
          "name": "stdout",
          "output_type": "stream",
          "text": [
            "None\n"
          ]
        }
      ],
      "source": [
        "print(meta.index.name)"
      ]
    },
    {
      "cell_type": "code",
      "execution_count": 9,
      "metadata": {
        "colab": {
          "base_uri": "https://localhost:8080/",
          "height": 344
        },
        "id": "m1_Np9HaHfkq",
        "outputId": "aff7d0c0-474f-4809-aeb1-e293ae2167ed"
      },
      "outputs": [
        {
          "data": {
            "text/html": [
              "<div>\n",
              "<style scoped>\n",
              "    .dataframe tbody tr th:only-of-type {\n",
              "        vertical-align: middle;\n",
              "    }\n",
              "\n",
              "    .dataframe tbody tr th {\n",
              "        vertical-align: top;\n",
              "    }\n",
              "\n",
              "    .dataframe thead th {\n",
              "        text-align: right;\n",
              "    }\n",
              "</style>\n",
              "<table border=\"1\" class=\"dataframe\">\n",
              "  <thead>\n",
              "    <tr style=\"text-align: right;\">\n",
              "      <th></th>\n",
              "      <th>well_id</th>\n",
              "      <th>cell_type</th>\n",
              "      <th>experiment</th>\n",
              "      <th>plate</th>\n",
              "      <th>well</th>\n",
              "      <th>site</th>\n",
              "      <th>disease_condition</th>\n",
              "      <th>treatment</th>\n",
              "      <th>treatment_conc</th>\n",
              "    </tr>\n",
              "    <tr>\n",
              "      <th>site_id</th>\n",
              "      <th></th>\n",
              "      <th></th>\n",
              "      <th></th>\n",
              "      <th></th>\n",
              "      <th></th>\n",
              "      <th></th>\n",
              "      <th></th>\n",
              "      <th></th>\n",
              "      <th></th>\n",
              "    </tr>\n",
              "  </thead>\n",
              "  <tbody>\n",
              "    <tr>\n",
              "      <th>HRCE-1_1_J31_4</th>\n",
              "      <td>HRCE-1_1_J31</td>\n",
              "      <td>HRCE</td>\n",
              "      <td>HRCE-1</td>\n",
              "      <td>1</td>\n",
              "      <td>J31</td>\n",
              "      <td>4</td>\n",
              "      <td>Active SARS-CoV-2</td>\n",
              "      <td>Epalrestat</td>\n",
              "      <td>1.00</td>\n",
              "    </tr>\n",
              "    <tr>\n",
              "      <th>HRCE-1_12_V27_4</th>\n",
              "      <td>HRCE-1_12_V27</td>\n",
              "      <td>HRCE</td>\n",
              "      <td>HRCE-1</td>\n",
              "      <td>12</td>\n",
              "      <td>V27</td>\n",
              "      <td>4</td>\n",
              "      <td>Active SARS-CoV-2</td>\n",
              "      <td>Tolazamide</td>\n",
              "      <td>0.03</td>\n",
              "    </tr>\n",
              "    <tr>\n",
              "      <th>HRCE-2_22_Z27_2</th>\n",
              "      <td>HRCE-2_22_Z27</td>\n",
              "      <td>HRCE</td>\n",
              "      <td>HRCE-2</td>\n",
              "      <td>22</td>\n",
              "      <td>Z27</td>\n",
              "      <td>2</td>\n",
              "      <td>Active SARS-CoV-2</td>\n",
              "      <td>inimur</td>\n",
              "      <td>0.10</td>\n",
              "    </tr>\n",
              "    <tr>\n",
              "      <th>HRCE-2_19_AB23_3</th>\n",
              "      <td>HRCE-2_19_AB23</td>\n",
              "      <td>HRCE</td>\n",
              "      <td>HRCE-2</td>\n",
              "      <td>19</td>\n",
              "      <td>AB23</td>\n",
              "      <td>3</td>\n",
              "      <td>Active SARS-CoV-2</td>\n",
              "      <td>chloroxoquinoline</td>\n",
              "      <td>0.10</td>\n",
              "    </tr>\n",
              "    <tr>\n",
              "      <th>HRCE-2_14_D28_2</th>\n",
              "      <td>HRCE-2_14_D28</td>\n",
              "      <td>HRCE</td>\n",
              "      <td>HRCE-2</td>\n",
              "      <td>14</td>\n",
              "      <td>D28</td>\n",
              "      <td>2</td>\n",
              "      <td>Active SARS-CoV-2</td>\n",
              "      <td>Triacetin</td>\n",
              "      <td>1.00</td>\n",
              "    </tr>\n",
              "  </tbody>\n",
              "</table>\n",
              "</div>"
            ],
            "text/plain": [
              "                         well_id cell_type experiment  plate  well  site  \\\n",
              "site_id                                                                    \n",
              "HRCE-1_1_J31_4      HRCE-1_1_J31      HRCE     HRCE-1      1   J31     4   \n",
              "HRCE-1_12_V27_4    HRCE-1_12_V27      HRCE     HRCE-1     12   V27     4   \n",
              "HRCE-2_22_Z27_2    HRCE-2_22_Z27      HRCE     HRCE-2     22   Z27     2   \n",
              "HRCE-2_19_AB23_3  HRCE-2_19_AB23      HRCE     HRCE-2     19  AB23     3   \n",
              "HRCE-2_14_D28_2    HRCE-2_14_D28      HRCE     HRCE-2     14   D28     2   \n",
              "\n",
              "                  disease_condition          treatment  treatment_conc  \n",
              "site_id                                                                 \n",
              "HRCE-1_1_J31_4    Active SARS-CoV-2         Epalrestat            1.00  \n",
              "HRCE-1_12_V27_4   Active SARS-CoV-2         Tolazamide            0.03  \n",
              "HRCE-2_22_Z27_2   Active SARS-CoV-2             inimur            0.10  \n",
              "HRCE-2_19_AB23_3  Active SARS-CoV-2  chloroxoquinoline            0.10  \n",
              "HRCE-2_14_D28_2   Active SARS-CoV-2          Triacetin            1.00  "
            ]
          },
          "execution_count": 9,
          "metadata": {},
          "output_type": "execute_result"
        }
      ],
      "source": [
        "meta.set_index('site_id', inplace=True)\n",
        "meta.head()"
      ]
    },
    {
      "cell_type": "code",
      "execution_count": 10,
      "metadata": {
        "colab": {
          "base_uri": "https://localhost:8080/"
        },
        "id": "ATDdxzECH19q",
        "outputId": "23656740-b7ab-4a67-800d-d1c07e78e660"
      },
      "outputs": [
        {
          "name": "stdout",
          "output_type": "stream",
          "text": [
            "<class 'pandas.core.series.Series'> 27360\n"
          ]
        }
      ],
      "source": [
        "#set the disease_condition column in meta as target\n",
        "\n",
        "target = meta['disease_condition']\n",
        "print(type(target), len(target))"
      ]
    },
    {
      "cell_type": "code",
      "execution_count": 11,
      "metadata": {
        "colab": {
          "base_uri": "https://localhost:8080/"
        },
        "id": "GYR4vUoBJJry",
        "outputId": "00888f8b-1d8f-4ebc-f490-010600fe2a21"
      },
      "outputs": [
        {
          "data": {
            "text/plain": [
              "(27360, 9)"
            ]
          },
          "execution_count": 11,
          "metadata": {},
          "output_type": "execute_result"
        }
      ],
      "source": [
        "meta.shape"
      ]
    },
    {
      "cell_type": "markdown",
      "metadata": {
        "id": "tROS6JKwJJDP"
      },
      "source": [
        "# SPLIT THE DATA FOR PREPARATION"
      ]
    },
    {
      "cell_type": "markdown",
      "metadata": {
        "id": "fQy_7Z0mKqCn"
      },
      "source": []
    },
    {
      "cell_type": "code",
      "execution_count": 12,
      "metadata": {
        "colab": {
          "base_uri": "https://localhost:8080/"
        },
        "id": "tFxrKGummS5f",
        "outputId": "66de0147-f73c-42df-a679-48ee4faa9505"
      },
      "outputs": [
        {
          "data": {
            "text/plain": [
              "(27360, 1024, 1)"
            ]
          },
          "execution_count": 12,
          "metadata": {},
          "output_type": "execute_result"
        }
      ],
      "source": [
        "# reshape the data into 3-dimension for valid CNN input\n",
        "embed = np.expand_dims(embed, axis=2) #axis=2 means it'll add 2 new dimesnion\n",
        "embed.shape"
      ]
    },
    {
      "cell_type": "code",
      "execution_count": 13,
      "metadata": {
        "id": "g4Dotq1xLH4B"
      },
      "outputs": [],
      "source": [
        "from sklearn.model_selection import train_test_split\n",
        "\n",
        "# split the data into training set and testing set\n",
        "x_train, x_test, y_train, y_test = train_test_split(embed, target, test_size=0.2, random_state=42)\n"
      ]
    },
    {
      "cell_type": "code",
      "execution_count": 14,
      "metadata": {
        "colab": {
          "base_uri": "https://localhost:8080/"
        },
        "id": "sgGeaP9JSxTp",
        "outputId": "b7d13c2a-8858-4501-a5a7-c7c51859e91c"
      },
      "outputs": [
        {
          "name": "stdout",
          "output_type": "stream",
          "text": [
            "<class 'pandas.core.series.Series'> <class 'pandas.core.series.Series'>\n"
          ]
        }
      ],
      "source": [
        "# Show the types of the original labels\n",
        "print(type(y_train), type(y_test))\n"
      ]
    },
    {
      "cell_type": "code",
      "execution_count": 15,
      "metadata": {
        "colab": {
          "base_uri": "https://localhost:8080/"
        },
        "id": "D4idczxbp7Pt",
        "outputId": "2d1671aa-9a25-48f9-ac79-2798c16b5ccc"
      },
      "outputs": [
        {
          "name": "stdout",
          "output_type": "stream",
          "text": [
            "[0 0 0 ... 2 2 2]\n",
            "Index(['Active SARS-CoV-2', 'UV Inactivated SARS-CoV-2', 'Mock'], dtype='object')\n"
          ]
        }
      ],
      "source": [
        "codes, uniques = pd.factorize(target)\n",
        "print(codes)\n",
        "print(uniques)"
      ]
    },
    {
      "cell_type": "code",
      "execution_count": 16,
      "metadata": {
        "colab": {
          "base_uri": "https://localhost:8080/"
        },
        "id": "OdFRAk28qa4i",
        "outputId": "d16cf8bc-5272-4c6e-f1aa-12654f5e3abe"
      },
      "outputs": [
        {
          "name": "stdout",
          "output_type": "stream",
          "text": [
            "[0 0 1 0 0 0 0 0 1 2 0 1 1 2 2 0 1 1 2 1 2 0 2 1 1 2 0 0 2 2 1 1 1 1 1 2 2\n",
            " 2 0 0 2 1 2 2 1 1 0 2 2 1 1 0 2 1 2 1 2 1 2 0 1 0 0 1 0 0 0 0 2 2 0 1 2 2\n",
            " 2 2 2 0 0 2 1 2 1 1 2 2 2 1 1 2 2 2 2 1 0 2 2 1 0 2]\n"
          ]
        }
      ],
      "source": [
        "y_train_ = np.array(pd.factorize(y_train)[0])\n",
        "y_test_ = np.array(pd.factorize(y_test)[0])\n",
        "print(y_train_[0:100])"
      ]
    },
    {
      "cell_type": "code",
      "execution_count": 18,
      "metadata": {},
      "outputs": [
        {
          "name": "stdout",
          "output_type": "stream",
          "text": [
            "WARNING:tensorflow:From c:\\Users\\ASUS\\AppData\\Local\\Programs\\Python\\Python310\\lib\\site-packages\\keras\\src\\losses.py:2976: The name tf.losses.sparse_softmax_cross_entropy is deprecated. Please use tf.compat.v1.losses.sparse_softmax_cross_entropy instead.\n",
            "\n"
          ]
        }
      ],
      "source": [
        "from keras.utils import to_categorical"
      ]
    },
    {
      "cell_type": "code",
      "execution_count": 19,
      "metadata": {
        "id": "wYqN2InFs222"
      },
      "outputs": [],
      "source": [
        "y_train = to_categorical(y_train_)\n",
        "y_test = to_categorical(y_test_)"
      ]
    },
    {
      "cell_type": "code",
      "execution_count": null,
      "metadata": {
        "id": "ZgsvxlFdgMIv"
      },
      "outputs": [],
      "source": [
        "! pip show keras"
      ]
    },
    {
      "cell_type": "code",
      "execution_count": 20,
      "metadata": {
        "id": "YyG6GZoCfYXj"
      },
      "outputs": [
        {
          "name": "stdout",
          "output_type": "stream",
          "text": [
            "(5472, 3)\n",
            "(21888, 3)\n"
          ]
        }
      ],
      "source": [
        "print(y_test.shape)\n",
        "print(y_train.shape)"
      ]
    },
    {
      "cell_type": "code",
      "execution_count": null,
      "metadata": {
        "id": "39DwnIJ6eT3d"
      },
      "outputs": [],
      "source": [
        "\n",
        "# y_train_ = np.array(pd.factorize(y_train)[0])\n",
        "# y_test_ = np.array(pd.factorize(y_test)[0])\n",
        "# print(y_train_[0:100])\n"
      ]
    },
    {
      "cell_type": "code",
      "execution_count": 21,
      "metadata": {
        "colab": {
          "base_uri": "https://localhost:8080/"
        },
        "id": "REJTKjqWVTP8",
        "outputId": "ccea93e2-b15a-490f-bb06-77a0306df006"
      },
      "outputs": [
        {
          "name": "stdout",
          "output_type": "stream",
          "text": [
            "(5472, 1024, 1) (21888, 1024, 1) (5472, 3) (21888, 3)\n"
          ]
        }
      ],
      "source": [
        "print(x_test.shape, x_train.shape, y_test.shape, y_train.shape)"
      ]
    },
    {
      "cell_type": "code",
      "execution_count": 22,
      "metadata": {
        "id": "qSISfhJXMuNc"
      },
      "outputs": [],
      "source": [
        "import tensorflow as tf\n",
        "\n",
        "from tensorflow.keras import datasets, layers, models\n",
        "from tensorflow.keras.layers import Conv1D, MaxPooling1D # Import Conv1D and MaxPooling1D\n",
        "import matplotlib.pyplot as plt\n",
        "from sklearn.metrics import confusion_matrix\n",
        "import itertools\n",
        "\n",
        "from tensorflow.keras.utils import to_categorical # convert labels to one hot encoding\n",
        "from keras.models import Sequential\n",
        "from keras.layers import Dense, Dropout, Flatten, Conv2D, MaxPool2D\n",
        "from keras.optimizers import RMSprop, Adam\n",
        "from keras.callbacks import EarlyStopping, ModelCheckpoint"
      ]
    },
    {
      "cell_type": "code",
      "execution_count": 23,
      "metadata": {
        "id": "gvYgZ5a0TRqJ"
      },
      "outputs": [
        {
          "name": "stdout",
          "output_type": "stream",
          "text": [
            "WARNING:tensorflow:From c:\\Users\\ASUS\\AppData\\Local\\Programs\\Python\\Python310\\lib\\site-packages\\keras\\src\\backend.py:873: The name tf.get_default_graph is deprecated. Please use tf.compat.v1.get_default_graph instead.\n",
            "\n"
          ]
        }
      ],
      "source": [
        "model = Sequential()"
      ]
    },
    {
      "cell_type": "code",
      "execution_count": null,
      "metadata": {
        "id": "TGsabEa9YNBf"
      },
      "outputs": [],
      "source": [
        "# model.add(Conv1D(\n",
        "#     filters=50,\n",
        "#     kernel_size=3,\n",
        "#     padding='same',\n",
        "#     activation='relu',\n",
        "#     input_shape=(1024, 1)))\n",
        "\n",
        "# model.add(MaxPooling1D(pool_size=2))\n",
        "\n",
        "# model.add(Conv1D(\n",
        "#     filters=128,\n",
        "#     kernel_size=3,\n",
        "#     padding='same',\n",
        "#     activation='relu'))\n",
        "\n",
        "# model.add(Conv1D(128, 3, padding='same', activation='relu'))\n",
        "# model.add(MaxPooling1D(pool_size=2))"
      ]
    },
    {
      "cell_type": "code",
      "execution_count": 24,
      "metadata": {
        "colab": {
          "base_uri": "https://localhost:8080/"
        },
        "id": "_GAqpr3BWMZy",
        "outputId": "3c2ac5f6-58ee-40b4-e78e-59cdb6638689"
      },
      "outputs": [
        {
          "data": {
            "text/plain": [
              "<keras.src.layers.pooling.max_pooling1d.MaxPooling1D at 0x2edcfd933a0>"
            ]
          },
          "execution_count": 24,
          "metadata": {},
          "output_type": "execute_result"
        }
      ],
      "source": [
        "# first layer\n",
        "model.add(Conv1D(\n",
        "    filters=70,\n",
        "    kernel_size=5,\n",
        "    padding='same',\n",
        "    activation='relu',\n",
        "    input_shape=(1024, 1)\n",
        "\n",
        "))\n",
        "layers.MaxPooling1D( pool_size=2)\n",
        "\n",
        "# second layer\n",
        "model.add(Conv1D(\n",
        "    filters=140,\n",
        "    kernel_size=5,\n",
        "    padding='same',\n",
        "    activation='relu'\n",
        "\n",
        "))\n",
        "model.add(Conv1D(\n",
        "    filters=140,\n",
        "    kernel_size=5,\n",
        "    padding='same',\n",
        "    activation='relu'\n",
        "\n",
        "))\n",
        "layers.MaxPooling1D( pool_size=2)\n",
        "\n",
        "# third layer\n",
        "model.add(Conv1D(\n",
        "    filters=280,\n",
        "    kernel_size=5,\n",
        "    padding='same',\n",
        "    activation='relu'\n",
        "\n",
        "))\n",
        "model.add(Conv1D(\n",
        "    filters=280,\n",
        "    kernel_size=5,\n",
        "    padding='same',\n",
        "    activation='relu'\n",
        "\n",
        "))\n",
        "layers.MaxPooling1D( pool_size=2)"
      ]
    },
    {
      "cell_type": "code",
      "execution_count": 25,
      "metadata": {
        "id": "U66lRP4Ua-4v"
      },
      "outputs": [],
      "source": [
        "dropout = 0.2"
      ]
    },
    {
      "cell_type": "code",
      "execution_count": 26,
      "metadata": {
        "id": "sT75z4nTbGrM"
      },
      "outputs": [],
      "source": [
        "model.add(Flatten()) # flatten the output to 1D\n",
        "model.add(Dense(140, activation='relu'))\n",
        "model.add(Dropout(dropout))\n",
        "\n",
        "model.add(Dense(70, activation='relu'))\n",
        "model.add(Dropout(dropout))\n",
        "\n",
        "model.add(Dense(3, activation='softmax'))"
      ]
    },
    {
      "cell_type": "code",
      "execution_count": 27,
      "metadata": {
        "id": "YfVt2ZXrcVQ8"
      },
      "outputs": [],
      "source": [
        "optimizer = Adam(learning_rate=0.001, beta_1=0.9, beta_2=0.999) # the higher the learning rate, the faster model will learn but it comes iwth overshoot\n"
      ]
    },
    {
      "cell_type": "code",
      "execution_count": 28,
      "metadata": {
        "id": "RucmFd2NcTX-"
      },
      "outputs": [
        {
          "name": "stdout",
          "output_type": "stream",
          "text": [
            "WARNING:tensorflow:From c:\\Users\\ASUS\\AppData\\Local\\Programs\\Python\\Python310\\lib\\site-packages\\keras\\src\\optimizers\\__init__.py:309: The name tf.train.Optimizer is deprecated. Please use tf.compat.v1.train.Optimizer instead.\n",
            "\n"
          ]
        }
      ],
      "source": [
        "model.compile(optimizer='adam',\n",
        "              loss='categorical_crossentropy',\n",
        "              metrics=['accuracy'])"
      ]
    },
    {
      "cell_type": "code",
      "execution_count": 29,
      "metadata": {
        "id": "q1_FKXTQcY6D"
      },
      "outputs": [],
      "source": [
        "epochs = 20 # repeats the training process 10 times\n",
        "batch_size = 64 # each batch contaons 64 samples\n"
      ]
    },
    {
      "cell_type": "code",
      "execution_count": 30,
      "metadata": {
        "colab": {
          "base_uri": "https://localhost:8080/"
        },
        "id": "CC_5kWj9ckOM",
        "outputId": "8a02ca32-a633-4c46-f7a2-e19c11c96f6c"
      },
      "outputs": [
        {
          "name": "stdout",
          "output_type": "stream",
          "text": [
            "Epoch 1/20\n",
            "WARNING:tensorflow:From c:\\Users\\ASUS\\AppData\\Local\\Programs\\Python\\Python310\\lib\\site-packages\\keras\\src\\utils\\tf_utils.py:492: The name tf.ragged.RaggedTensorValue is deprecated. Please use tf.compat.v1.ragged.RaggedTensorValue instead.\n",
            "\n",
            "WARNING:tensorflow:From c:\\Users\\ASUS\\AppData\\Local\\Programs\\Python\\Python310\\lib\\site-packages\\keras\\src\\engine\\base_layer_utils.py:384: The name tf.executing_eagerly_outside_functions is deprecated. Please use tf.compat.v1.executing_eagerly_outside_functions instead.\n",
            "\n",
            "342/342 [==============================] - 300s 872ms/step - loss: 0.5934 - accuracy: 0.7142 - val_loss: 0.3977 - val_accuracy: 0.8271\n",
            "Epoch 2/20\n",
            "342/342 [==============================] - 296s 864ms/step - loss: 0.4282 - accuracy: 0.8022 - val_loss: 0.3871 - val_accuracy: 0.8335\n",
            "Epoch 3/20\n",
            "342/342 [==============================] - 287s 838ms/step - loss: 0.3854 - accuracy: 0.8247 - val_loss: 0.3465 - val_accuracy: 0.8476\n",
            "Epoch 4/20\n",
            "342/342 [==============================] - 306s 895ms/step - loss: 0.3538 - accuracy: 0.8411 - val_loss: 0.3408 - val_accuracy: 0.8564\n",
            "Epoch 5/20\n",
            "342/342 [==============================] - 308s 902ms/step - loss: 0.3313 - accuracy: 0.8546 - val_loss: 0.3252 - val_accuracy: 0.8637\n",
            "Epoch 6/20\n",
            "342/342 [==============================] - 295s 864ms/step - loss: 0.3135 - accuracy: 0.8595 - val_loss: 0.3204 - val_accuracy: 0.8613\n",
            "Epoch 7/20\n",
            "342/342 [==============================] - 286s 837ms/step - loss: 0.2978 - accuracy: 0.8689 - val_loss: 0.3262 - val_accuracy: 0.8584\n",
            "Epoch 8/20\n",
            "342/342 [==============================] - 283s 828ms/step - loss: 0.2802 - accuracy: 0.8748 - val_loss: 0.3225 - val_accuracy: 0.8692\n",
            "Epoch 9/20\n",
            "342/342 [==============================] - 294s 859ms/step - loss: 0.2591 - accuracy: 0.8874 - val_loss: 0.3240 - val_accuracy: 0.8600\n",
            "Epoch 10/20\n",
            "342/342 [==============================] - 298s 873ms/step - loss: 0.2473 - accuracy: 0.8911 - val_loss: 0.3344 - val_accuracy: 0.8628\n",
            "Epoch 11/20\n",
            "342/342 [==============================] - 289s 844ms/step - loss: 0.2317 - accuracy: 0.8999 - val_loss: 0.3195 - val_accuracy: 0.8772\n",
            "Epoch 12/20\n",
            "342/342 [==============================] - 283s 827ms/step - loss: 0.2251 - accuracy: 0.9033 - val_loss: 0.3608 - val_accuracy: 0.8564\n",
            "Epoch 13/20\n",
            "342/342 [==============================] - 355s 1s/step - loss: 0.2054 - accuracy: 0.9110 - val_loss: 0.3670 - val_accuracy: 0.8712\n",
            "Epoch 14/20\n",
            "342/342 [==============================] - 285s 833ms/step - loss: 0.1922 - accuracy: 0.9199 - val_loss: 0.3681 - val_accuracy: 0.8750\n",
            "Epoch 15/20\n",
            "342/342 [==============================] - 277s 810ms/step - loss: 0.1768 - accuracy: 0.9239 - val_loss: 0.3793 - val_accuracy: 0.8765\n",
            "Epoch 16/20\n",
            "342/342 [==============================] - 293s 858ms/step - loss: 0.1661 - accuracy: 0.9297 - val_loss: 0.3913 - val_accuracy: 0.8772\n",
            "Epoch 17/20\n",
            "342/342 [==============================] - 293s 858ms/step - loss: 0.1549 - accuracy: 0.9354 - val_loss: 0.4337 - val_accuracy: 0.8759\n",
            "Epoch 18/20\n",
            "342/342 [==============================] - 292s 853ms/step - loss: 0.1461 - accuracy: 0.9410 - val_loss: 0.3969 - val_accuracy: 0.8759\n",
            "Epoch 19/20\n",
            "342/342 [==============================] - 299s 875ms/step - loss: 0.1376 - accuracy: 0.9439 - val_loss: 0.4338 - val_accuracy: 0.8772\n",
            "Epoch 20/20\n",
            "342/342 [==============================] - 298s 870ms/step - loss: 0.1263 - accuracy: 0.9485 - val_loss: 0.4514 - val_accuracy: 0.8754\n"
          ]
        }
      ],
      "source": [
        "history = model.fit(x_train,y_train,\n",
        "                    batch_size=batch_size,\n",
        "                    epochs=epochs,\n",
        "                    validation_data=(x_test, y_test))\n"
      ]
    },
    {
      "cell_type": "code",
      "execution_count": 40,
      "metadata": {},
      "outputs": [],
      "source": [
        "model.save('my_model.h5')\n"
      ]
    },
    {
      "cell_type": "code",
      "execution_count": 47,
      "metadata": {},
      "outputs": [
        {
          "name": "stdout",
          "output_type": "stream",
          "text": [
            "Epoch 21/30\n",
            "342/342 [==============================] - 296s 860ms/step - loss: 0.1184 - accuracy: 0.9528 - val_loss: 0.4602 - val_accuracy: 0.8754\n",
            "Epoch 22/30\n",
            "342/342 [==============================] - 278s 812ms/step - loss: 0.1122 - accuracy: 0.9554 - val_loss: 0.4736 - val_accuracy: 0.8732\n",
            "Epoch 23/30\n",
            "342/342 [==============================] - 284s 830ms/step - loss: 0.1056 - accuracy: 0.9563 - val_loss: 0.5216 - val_accuracy: 0.8671\n",
            "Epoch 24/30\n",
            "342/342 [==============================] - 280s 818ms/step - loss: 0.0981 - accuracy: 0.9600 - val_loss: 0.5410 - val_accuracy: 0.8794\n",
            "Epoch 25/30\n",
            "342/342 [==============================] - 274s 802ms/step - loss: 0.0937 - accuracy: 0.9631 - val_loss: 0.5040 - val_accuracy: 0.8741\n",
            "Epoch 26/30\n",
            "342/342 [==============================] - 278s 811ms/step - loss: 0.0870 - accuracy: 0.9664 - val_loss: 0.5282 - val_accuracy: 0.8755\n",
            "Epoch 27/30\n",
            "342/342 [==============================] - 278s 812ms/step - loss: 0.0828 - accuracy: 0.9676 - val_loss: 0.5434 - val_accuracy: 0.8702\n",
            "Epoch 28/30\n",
            "342/342 [==============================] - 276s 807ms/step - loss: 0.0860 - accuracy: 0.9672 - val_loss: 0.5481 - val_accuracy: 0.8708\n",
            "Epoch 29/30\n",
            "342/342 [==============================] - 327s 955ms/step - loss: 0.0752 - accuracy: 0.9715 - val_loss: 0.5461 - val_accuracy: 0.8664\n",
            "Epoch 30/30\n",
            "342/342 [==============================] - 323s 945ms/step - loss: 0.0710 - accuracy: 0.9722 - val_loss: 0.6034 - val_accuracy: 0.8761\n"
          ]
        }
      ],
      "source": [
        "from tensorflow.keras.models import load_model\n",
        "\n",
        "\n",
        "model = load_model('my_model.h5')\n",
        "\n",
        "history = model.fit(\n",
        "    x_train, y_train,\n",
        "    batch_size=batch_size,\n",
        "    epochs=30,                  \n",
        "    validation_data=(x_test, y_test),\n",
        "    initial_epoch=20             \n",
        ")\n"
      ]
    },
    {
      "cell_type": "code",
      "execution_count": 48,
      "metadata": {},
      "outputs": [
        {
          "name": "stdout",
          "output_type": "stream",
          "text": [
            "Epoch 31/40\n",
            "342/342 [==============================] - 273s 798ms/step - loss: 0.0720 - accuracy: 0.9715 - val_loss: 0.6271 - val_accuracy: 0.8724\n",
            "Epoch 32/40\n",
            "342/342 [==============================] - 272s 795ms/step - loss: 0.0671 - accuracy: 0.9735 - val_loss: 0.6676 - val_accuracy: 0.8697\n",
            "Epoch 33/40\n",
            "342/342 [==============================] - 272s 795ms/step - loss: 0.0631 - accuracy: 0.9759 - val_loss: 0.6172 - val_accuracy: 0.8657\n",
            "Epoch 34/40\n",
            "342/342 [==============================] - 1854s 5s/step - loss: 0.0603 - accuracy: 0.9784 - val_loss: 0.6519 - val_accuracy: 0.8702\n",
            "Epoch 35/40\n",
            "342/342 [==============================] - 225s 657ms/step - loss: 0.0658 - accuracy: 0.9751 - val_loss: 0.5979 - val_accuracy: 0.8637\n",
            "Epoch 36/40\n",
            "342/342 [==============================] - 258s 755ms/step - loss: 0.0595 - accuracy: 0.9780 - val_loss: 0.7141 - val_accuracy: 0.8671\n",
            "Epoch 37/40\n",
            "342/342 [==============================] - 272s 796ms/step - loss: 0.0632 - accuracy: 0.9770 - val_loss: 0.6403 - val_accuracy: 0.8746\n",
            "Epoch 38/40\n",
            "342/342 [==============================] - 281s 821ms/step - loss: 0.0580 - accuracy: 0.9784 - val_loss: 0.6369 - val_accuracy: 0.8682\n",
            "Epoch 39/40\n",
            "342/342 [==============================] - 286s 836ms/step - loss: 0.0532 - accuracy: 0.9806 - val_loss: 0.7137 - val_accuracy: 0.8655\n",
            "Epoch 40/40\n",
            "342/342 [==============================] - 278s 813ms/step - loss: 0.0655 - accuracy: 0.9757 - val_loss: 0.7543 - val_accuracy: 0.8695\n"
          ]
        }
      ],
      "source": [
        "history = model.fit(\n",
        "    x_train, y_train,\n",
        "    batch_size=batch_size,\n",
        "    epochs=40,                  \n",
        "    validation_data=(x_test, y_test),\n",
        "    initial_epoch=30             \n",
        ")"
      ]
    },
    {
      "cell_type": "code",
      "execution_count": 50,
      "metadata": {},
      "outputs": [
        {
          "name": "stdout",
          "output_type": "stream",
          "text": [
            "Accuarcy:  0.9757401347160339\n"
          ]
        }
      ],
      "source": [
        "# print final accuracy\n",
        "print(\"Accuarcy: \", history.history['accuracy'][-1])"
      ]
    },
    {
      "cell_type": "code",
      "execution_count": 51,
      "metadata": {},
      "outputs": [
        {
          "name": "stdout",
          "output_type": "stream",
          "text": [
            "171/171 [==============================] - 21s 117ms/step\n"
          ]
        },
        {
          "data": {
            "image/png": "[encoded data removed]",
            "text/plain": [
              "<Figure size 1000x1000 with 2 Axes>"
            ]
          },
          "metadata": {},
          "output_type": "display_data"
        }
      ],
      "source": [
        "# create confusion matrix based on the predictions\n",
        "y_pred = model.predict(x_test)\n",
        "y_pred_classes = np.argmax(y_pred, axis=1)\n",
        "y_true = np.argmax(y_test, axis=1)\n",
        "\n",
        "#confusion\n",
        "confusion = confusion_matrix(y_true, y_pred_classes)\n",
        "\n",
        "f, ax = plt.subplots(figsize=(10, 10))\n",
        "sns.heatmap(confusion, annot=True, fmt='d', linewidths=5, ax=ax, cmap='Blues')\n",
        "ax.set_title('Conffusion Matrix')\n",
        "ax.set_xlabel('Predicted')\n",
        "ax.set_ylabel('True')\n",
        "plt.show()\n"
      ]
    }
  ],
  "metadata": {
    "colab": {
      "provenance": []
    },
    "kernelspec": {
      "display_name": "Python 3",
      "name": "python3"
    },
    "language_info": {
      "codemirror_mode": {
        "name": "ipython",
        "version": 3
      },
      "file_extension": ".py",
      "mimetype": "text/x-python",
      "name": "python",
      "nbconvert_exporter": "python",
      "pygments_lexer": "ipython3",
      "version": "3.10.0"
    }
  },
  "nbformat": 4,
  "nbformat_minor": 0
}
